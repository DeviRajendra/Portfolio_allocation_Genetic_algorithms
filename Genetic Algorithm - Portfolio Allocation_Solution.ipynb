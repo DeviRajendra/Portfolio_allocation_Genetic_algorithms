{
 "cells": [
  {
   "cell_type": "code",
   "execution_count": 1,
   "metadata": {},
   "outputs": [],
   "source": [
    "import os\n",
    "import pandas as pd\n",
    "import numpy as np"
   ]
  },
  {
   "cell_type": "markdown",
   "metadata": {},
   "source": [
    "### Calculate stock returns from closing value of each stock for every month"
   ]
  },
  {
   "cell_type": "code",
   "execution_count": 7,
   "metadata": {},
   "outputs": [],
   "source": [
    "# set the working direory to the drive where stocks directory present\n",
    "os.chdir('./stocks/')"
   ]
  },
  {
   "cell_type": "markdown",
   "metadata": {},
   "source": [
    "##### Define function to obtain .csv filenames"
   ]
  },
  {
   "cell_type": "code",
   "execution_count": 8,
   "metadata": {},
   "outputs": [],
   "source": [
    "def obtain_filenames(path):\n",
    "    name = []\n",
    "#     This loop will search all the files in given path and selects file names which end with .csv\n",
    "    for file in os.listdir(path):\n",
    "        if file.endswith('.csv'):\n",
    "            name.append(file.split(sep='.')[0])\n",
    "#     name contains list of file names\n",
    "    return name"
   ]
  },
  {
   "cell_type": "markdown",
   "metadata": {},
   "source": [
    "##### Define function to calculate returns for each stock"
   ]
  },
  {
   "cell_type": "code",
   "execution_count": 9,
   "metadata": {},
   "outputs": [],
   "source": [
    "def calculate_returns(scrip,l_o_m):\n",
    "    stck_name_returns = {}\n",
    "    for stck in scrip:\n",
    "#         Read each stock data\n",
    "        stck_data = pd.read_csv(stck + '.csv',header=0,sep=',')\n",
    "        returns = []\n",
    "#         Calculate returns for each stock according to list_of_months and append to stck_name_returns dictionary\n",
    "        for i in l_o_m:\n",
    "            present_close = stck_data.loc[0,'Close']\n",
    "            last_close = stck_data.loc[0 + i,'Close']\n",
    "            returns.append((present_close - last_close)/last_close)\n",
    "        stck_name_returns[stck] = returns\n",
    "    return stck_name_returns"
   ]
  },
  {
   "cell_type": "code",
   "execution_count": 10,
   "metadata": {},
   "outputs": [
    {
     "data": {
      "text/plain": [
       "['l&t', 'sunpha', 'tcs', 'hdfc', 'itc', 'm&m']"
      ]
     },
     "execution_count": 10,
     "metadata": {},
     "output_type": "execute_result"
    }
   ],
   "source": [
    "scrip_names = obtain_filenames(os.getcwd())\n",
    "scrip_names"
   ]
  },
  {
   "cell_type": "code",
   "execution_count": 11,
   "metadata": {},
   "outputs": [],
   "source": [
    "list_of_months = [3,6,12,18,24,36]"
   ]
  },
  {
   "cell_type": "code",
   "execution_count": 12,
   "metadata": {},
   "outputs": [
    {
     "data": {
      "text/html": [
       "<div>\n",
       "<style scoped>\n",
       "    .dataframe tbody tr th:only-of-type {\n",
       "        vertical-align: middle;\n",
       "    }\n",
       "\n",
       "    .dataframe tbody tr th {\n",
       "        vertical-align: top;\n",
       "    }\n",
       "\n",
       "    .dataframe thead th {\n",
       "        text-align: right;\n",
       "    }\n",
       "</style>\n",
       "<table border=\"1\" class=\"dataframe\">\n",
       "  <thead>\n",
       "    <tr style=\"text-align: right;\">\n",
       "      <th></th>\n",
       "      <th>l&amp;t</th>\n",
       "      <th>sunpha</th>\n",
       "      <th>tcs</th>\n",
       "      <th>hdfc</th>\n",
       "      <th>itc</th>\n",
       "      <th>m&amp;m</th>\n",
       "    </tr>\n",
       "  </thead>\n",
       "  <tbody>\n",
       "    <tr>\n",
       "      <th>3month</th>\n",
       "      <td>-0.030947</td>\n",
       "      <td>0.131510</td>\n",
       "      <td>0.296599</td>\n",
       "      <td>0.114515</td>\n",
       "      <td>0.039664</td>\n",
       "      <td>0.211564</td>\n",
       "    </tr>\n",
       "    <tr>\n",
       "      <th>6month</th>\n",
       "      <td>0.011417</td>\n",
       "      <td>-0.017957</td>\n",
       "      <td>0.368094</td>\n",
       "      <td>0.125163</td>\n",
       "      <td>0.011212</td>\n",
       "      <td>0.194062</td>\n",
       "    </tr>\n",
       "    <tr>\n",
       "      <th>12month</th>\n",
       "      <td>0.129783</td>\n",
       "      <td>0.010911</td>\n",
       "      <td>0.562537</td>\n",
       "      <td>0.275866</td>\n",
       "      <td>-0.178478</td>\n",
       "      <td>0.330899</td>\n",
       "    </tr>\n",
       "    <tr>\n",
       "      <th>18month</th>\n",
       "      <td>0.413121</td>\n",
       "      <td>-0.109885</td>\n",
       "      <td>0.564125</td>\n",
       "      <td>0.750581</td>\n",
       "      <td>0.104171</td>\n",
       "      <td>0.514277</td>\n",
       "    </tr>\n",
       "    <tr>\n",
       "      <th>24month</th>\n",
       "      <td>0.274461</td>\n",
       "      <td>-0.265911</td>\n",
       "      <td>0.448330</td>\n",
       "      <td>0.792712</td>\n",
       "      <td>0.084237</td>\n",
       "      <td>0.255179</td>\n",
       "    </tr>\n",
       "    <tr>\n",
       "      <th>36month</th>\n",
       "      <td>0.069614</td>\n",
       "      <td>-0.358785</td>\n",
       "      <td>0.447535</td>\n",
       "      <td>0.974847</td>\n",
       "      <td>0.266844</td>\n",
       "      <td>0.399938</td>\n",
       "    </tr>\n",
       "  </tbody>\n",
       "</table>\n",
       "</div>"
      ],
      "text/plain": [
       "              l&t    sunpha       tcs      hdfc       itc       m&m\n",
       "3month  -0.030947  0.131510  0.296599  0.114515  0.039664  0.211564\n",
       "6month   0.011417 -0.017957  0.368094  0.125163  0.011212  0.194062\n",
       "12month  0.129783  0.010911  0.562537  0.275866 -0.178478  0.330899\n",
       "18month  0.413121 -0.109885  0.564125  0.750581  0.104171  0.514277\n",
       "24month  0.274461 -0.265911  0.448330  0.792712  0.084237  0.255179\n",
       "36month  0.069614 -0.358785  0.447535  0.974847  0.266844  0.399938"
      ]
     },
     "execution_count": 12,
     "metadata": {},
     "output_type": "execute_result"
    }
   ],
   "source": [
    "stck_returns = pd.DataFrame(calculate_returns(scrip_names,list_of_months),\n",
    "                            i ndex=['3month','6month','12month','18month','24month','36month'])\n",
    "stck_returns"
   ]
  },
  {
   "cell_type": "markdown",
   "metadata": {},
   "source": [
    "### Genetic Algorithm for portfolio allocation"
   ]
  },
  {
   "cell_type": "code",
   "execution_count": 13,
   "metadata": {},
   "outputs": [],
   "source": [
    "# Gene for this problem would be the percentage of amount to be allocated for a particular stock\n",
    "# Chromosome would be the percentage of amount to be allocated for each stock\n",
    "# The constraint is total amount to be invested is Rs.1,00,000/-\n",
    "# Weighted returns for each stock is calculated according to weights list, with more weight given to most recent returns"
   ]
  },
  {
   "cell_type": "markdown",
   "metadata": {},
   "source": [
    "##### Declare global variables"
   ]
  },
  {
   "cell_type": "code",
   "execution_count": 14,
   "metadata": {},
   "outputs": [],
   "source": [
    "max_allocation = 100000 # maximum budget that can be allocated\n",
    "weights = [0.30,0.20,0.15,0.15,0.10,0.10] # weights for n-month returns\n",
    "mutation_probability = 0.5 # initial mutation probability\n",
    "number_of_iterations = 500 # total number of GA iterations\n",
    "number_of_chrom_in_population = 500 # size of population"
   ]
  },
  {
   "cell_type": "markdown",
   "metadata": {},
   "source": [
    "##### Generate initial population\n",
    "In this context, a gene is weightage of a particular scrip in the portfolio, and chromosome is a sequence of the weightages of different scrips in the porfolio. Initial population is a collection of different portfolios randomly generated."
   ]
  },
  {
   "cell_type": "code",
   "execution_count": 15,
   "metadata": {},
   "outputs": [],
   "source": [
    "def gen_init_population(pop,num_stocks):\n",
    "    init_population = pd.DataFrame(columns=scrip_names)\n",
    "    for i in range(pop):\n",
    "#         For each scrip, generate a random number between 0 and 1. Normalise this sequence as sum of weightage for scrips\n",
    "#         should be equal to one. This sequence is one chromosome. Repeat it 'pop' number of times to generate population\n",
    "        random = np.random.random(num_stocks)\n",
    "        chromosome = random/(sum(random))\n",
    "        init_population.loc[i] = chromosome\n",
    "    return init_population"
   ]
  },
  {
   "cell_type": "code",
   "execution_count": 16,
   "metadata": {},
   "outputs": [],
   "source": [
    "# gen_init_population(number_of_chrom_in_population,len(scrip_names)).head()\n",
    "# gen_init_population(number_of_chrom_in_population,len(scrip_names)).shape"
   ]
  },
  {
   "cell_type": "markdown",
   "metadata": {},
   "source": [
    "##### Define fitness function\n",
    "The fitness function calculates weighted return for the portfolio "
   ]
  },
  {
   "cell_type": "code",
   "execution_count": 17,
   "metadata": {},
   "outputs": [],
   "source": [
    "def fitness_func(max_alloc,population,stock_ret,wts):\n",
    "#     For each scrip, calculate returns weighted by 'n-month' returns\n",
    "    weighted_stck_returns = stock_ret.apply(lambda x:(x*wts).sum())\n",
    "#     Portfolio return in % considering scrip allocation weightage. For instance, for stock 1 in a particular portfolio,\n",
    "#     if the weighted return was 5% and this stock forms 20% of the portfolio, then % return on this stock is \n",
    "#     (20000*0.05)/100000\n",
    "    pfolio_return = population.apply(lambda x: sum((x*max_alloc)*weighted_stck_returns)/max_alloc, axis = 1)\n",
    "    return pfolio_return"
   ]
  },
  {
   "cell_type": "markdown",
   "metadata": {},
   "source": [
    "##### Define selection function"
   ]
  },
  {
   "cell_type": "code",
   "execution_count": 18,
   "metadata": {},
   "outputs": [],
   "source": [
    "def selection_func(fit_func,max_alloc,population,stock_ret,wts):\n",
    "#     For each portfolio calculate portfolio returns using fitness_func\n",
    "    portfolio_return = fit_func(max_alloc,population,stock_ret,wts)\n",
    "#     Select top 20% portfolio returns as elite population\n",
    "    selected_portfolio = portfolio_return.sort_values(ascending=False)[0:int(0.2*population.shape[0])]\n",
    "    elite = population.iloc[selected_portfolio.index,:]\n",
    "    return elite"
   ]
  },
  {
   "cell_type": "code",
   "execution_count": 19,
   "metadata": {},
   "outputs": [
    {
     "data": {
      "text/html": [
       "<div>\n",
       "<style scoped>\n",
       "    .dataframe tbody tr th:only-of-type {\n",
       "        vertical-align: middle;\n",
       "    }\n",
       "\n",
       "    .dataframe tbody tr th {\n",
       "        vertical-align: top;\n",
       "    }\n",
       "\n",
       "    .dataframe thead th {\n",
       "        text-align: right;\n",
       "    }\n",
       "</style>\n",
       "<table border=\"1\" class=\"dataframe\">\n",
       "  <thead>\n",
       "    <tr style=\"text-align: right;\">\n",
       "      <th></th>\n",
       "      <th>l&amp;t</th>\n",
       "      <th>sunpha</th>\n",
       "      <th>tcs</th>\n",
       "      <th>hdfc</th>\n",
       "      <th>itc</th>\n",
       "      <th>m&amp;m</th>\n",
       "    </tr>\n",
       "  </thead>\n",
       "  <tbody>\n",
       "    <tr>\n",
       "      <th>197</th>\n",
       "      <td>0.032174</td>\n",
       "      <td>0.004221</td>\n",
       "      <td>0.145178</td>\n",
       "      <td>0.436164</td>\n",
       "      <td>0.003586</td>\n",
       "      <td>0.378677</td>\n",
       "    </tr>\n",
       "    <tr>\n",
       "      <th>376</th>\n",
       "      <td>0.142316</td>\n",
       "      <td>0.017257</td>\n",
       "      <td>0.382910</td>\n",
       "      <td>0.392225</td>\n",
       "      <td>0.035982</td>\n",
       "      <td>0.029310</td>\n",
       "    </tr>\n",
       "    <tr>\n",
       "      <th>97</th>\n",
       "      <td>0.005173</td>\n",
       "      <td>0.094744</td>\n",
       "      <td>0.319579</td>\n",
       "      <td>0.244669</td>\n",
       "      <td>0.046130</td>\n",
       "      <td>0.289705</td>\n",
       "    </tr>\n",
       "    <tr>\n",
       "      <th>229</th>\n",
       "      <td>0.157119</td>\n",
       "      <td>0.050228</td>\n",
       "      <td>0.283169</td>\n",
       "      <td>0.315664</td>\n",
       "      <td>0.011424</td>\n",
       "      <td>0.182396</td>\n",
       "    </tr>\n",
       "    <tr>\n",
       "      <th>7</th>\n",
       "      <td>0.135487</td>\n",
       "      <td>0.023044</td>\n",
       "      <td>0.398192</td>\n",
       "      <td>0.202902</td>\n",
       "      <td>0.091227</td>\n",
       "      <td>0.149149</td>\n",
       "    </tr>\n",
       "  </tbody>\n",
       "</table>\n",
       "</div>"
      ],
      "text/plain": [
       "          l&t    sunpha       tcs      hdfc       itc       m&m\n",
       "197  0.032174  0.004221  0.145178  0.436164  0.003586  0.378677\n",
       "376  0.142316  0.017257  0.382910  0.392225  0.035982  0.029310\n",
       "97   0.005173  0.094744  0.319579  0.244669  0.046130  0.289705\n",
       "229  0.157119  0.050228  0.283169  0.315664  0.011424  0.182396\n",
       "7    0.135487  0.023044  0.398192  0.202902  0.091227  0.149149"
      ]
     },
     "execution_count": 19,
     "metadata": {},
     "output_type": "execute_result"
    }
   ],
   "source": [
    "tmp_pop = selection_func(fitness_func,max_allocation,gen_init_population(number_of_chrom_in_population,len(scrip_names)),\n",
    "                         stck_returns,weights)\n",
    "tmp_pop.head()"
   ]
  },
  {
   "cell_type": "markdown",
   "metadata": {},
   "source": [
    "##### Define evolution function\n",
    "Arithmetic crossover and scramble mutation has been used - you are free to use any other crossover methods like\n",
    "one-point crossover, multi-point crossover or uniform crossover, and mutation methods like swap mutation and inversion\n",
    "mutation"
   ]
  },
  {
   "cell_type": "code",
   "execution_count": 20,
   "metadata": {},
   "outputs": [],
   "source": [
    "def evolution_func(elite_pop,mut_prob,scrip,num_of_chrom_in_pop):\n",
    "    new_pop = pd.DataFrame(columns=scrip)\n",
    "    new_pop_iter = 0\n",
    "    while(new_pop_iter <= num_of_chrom_in_pop):\n",
    "#         We would generate a random number and if the number is less than mutation probability, we will go for crossover\n",
    "#         Initially, we will have high value of mutation probability to avoid being getting stuck at local minima and\n",
    "#         explore the search space\n",
    "        if np.random.random() < mut_prob:\n",
    "#             The candidate (or one of the elite portfolios) is chosen randomly for mutation\n",
    "            candidate = np.random.randint(low=0,high=elite_pop.shape[0],size=1)\n",
    "            mutant = elite_pop.iloc[candidate,:].copy()\n",
    "#             Mutation step - shuffle() randomly shuffles the allocation values for each scrip in a portfolio\n",
    "            np.random.shuffle(mutant)\n",
    "#             print(mutant)\n",
    "            new_pop = new_pop.append(mutant,ignore_index=True)\n",
    "#             We prefer to explore much more in the beginning of the search process to ensure diversity and avoid local \n",
    "#             optimum. As we progress towards the end of search process ( or iterations), we need to ensure the\n",
    "#             convergence of the population to a good solution if not the best. Hence we keep on reducing mutation \n",
    "#             probability with each iteraation\n",
    "            mut_prob = mut_prob/(new_pop_iter+1)\n",
    "        else:\n",
    "#             The parents (elite portfolios) for crossover are chosen randomly\n",
    "            parent_indices = np.random.randint(low=0,high=elite_pop.shape[0],size=2)\n",
    "            parents = elite_pop.iloc[parent_indices,:]\n",
    "#             The proportion of characteristic that should be captured in child from each parent is determined by a \n",
    "#             randomly generated number - alpha\n",
    "            alpha = np.random.random()\n",
    "            child1 = alpha*(parents.iloc[0,:]) + (1-alpha)*(parents.iloc[1,:])\n",
    "            child2 = (1-alpha)*(parents.iloc[0,:]) + alpha*(parents.iloc[1,:])\n",
    "#             print(child1)\n",
    "#             print(child2)\n",
    "#             print(dict(child1))\n",
    "#             print(dict(child2))\n",
    "            new_pop = new_pop.append(dict(child1),ignore_index=True)\n",
    "            new_pop = new_pop.append(dict(child2),ignore_index=True)\n",
    "        new_pop_iter+=1\n",
    "#     To create a new population, we include both new population and elite population as there may be a case that we are \n",
    "#     already at a global optimum solution\n",
    "    new_pop = pd.concat([new_pop,elite_pop],ignore_index=True)\n",
    "    return new_pop"
   ]
  },
  {
   "cell_type": "code",
   "execution_count": 21,
   "metadata": {},
   "outputs": [
    {
     "data": {
      "text/html": [
       "<div>\n",
       "<style scoped>\n",
       "    .dataframe tbody tr th:only-of-type {\n",
       "        vertical-align: middle;\n",
       "    }\n",
       "\n",
       "    .dataframe tbody tr th {\n",
       "        vertical-align: top;\n",
       "    }\n",
       "\n",
       "    .dataframe thead th {\n",
       "        text-align: right;\n",
       "    }\n",
       "</style>\n",
       "<table border=\"1\" class=\"dataframe\">\n",
       "  <thead>\n",
       "    <tr style=\"text-align: right;\">\n",
       "      <th></th>\n",
       "      <th>l&amp;t</th>\n",
       "      <th>sunpha</th>\n",
       "      <th>tcs</th>\n",
       "      <th>hdfc</th>\n",
       "      <th>itc</th>\n",
       "      <th>m&amp;m</th>\n",
       "    </tr>\n",
       "  </thead>\n",
       "  <tbody>\n",
       "    <tr>\n",
       "      <th>0</th>\n",
       "      <td>0.074545</td>\n",
       "      <td>0.211845</td>\n",
       "      <td>0.278600</td>\n",
       "      <td>0.021639</td>\n",
       "      <td>0.019967</td>\n",
       "      <td>0.393403</td>\n",
       "    </tr>\n",
       "    <tr>\n",
       "      <th>1</th>\n",
       "      <td>0.040846</td>\n",
       "      <td>0.177727</td>\n",
       "      <td>0.108516</td>\n",
       "      <td>0.294578</td>\n",
       "      <td>0.102508</td>\n",
       "      <td>0.275825</td>\n",
       "    </tr>\n",
       "    <tr>\n",
       "      <th>2</th>\n",
       "      <td>0.037432</td>\n",
       "      <td>0.170927</td>\n",
       "      <td>0.119249</td>\n",
       "      <td>0.287886</td>\n",
       "      <td>0.119766</td>\n",
       "      <td>0.264740</td>\n",
       "    </tr>\n",
       "    <tr>\n",
       "      <th>3</th>\n",
       "      <td>0.084715</td>\n",
       "      <td>0.150582</td>\n",
       "      <td>0.315359</td>\n",
       "      <td>0.332541</td>\n",
       "      <td>0.051706</td>\n",
       "      <td>0.065098</td>\n",
       "    </tr>\n",
       "    <tr>\n",
       "      <th>4</th>\n",
       "      <td>0.051082</td>\n",
       "      <td>0.017065</td>\n",
       "      <td>0.319465</td>\n",
       "      <td>0.286970</td>\n",
       "      <td>0.209818</td>\n",
       "      <td>0.115599</td>\n",
       "    </tr>\n",
       "  </tbody>\n",
       "</table>\n",
       "</div>"
      ],
      "text/plain": [
       "        l&t    sunpha       tcs      hdfc       itc       m&m\n",
       "0  0.074545  0.211845  0.278600  0.021639  0.019967  0.393403\n",
       "1  0.040846  0.177727  0.108516  0.294578  0.102508  0.275825\n",
       "2  0.037432  0.170927  0.119249  0.287886  0.119766  0.264740\n",
       "3  0.084715  0.150582  0.315359  0.332541  0.051706  0.065098\n",
       "4  0.051082  0.017065  0.319465  0.286970  0.209818  0.115599"
      ]
     },
     "execution_count": 21,
     "metadata": {},
     "output_type": "execute_result"
    }
   ],
   "source": [
    "evolution_func(tmp_pop,mutation_probability,scrip_names,number_of_chrom_in_population).head()"
   ]
  },
  {
   "cell_type": "markdown",
   "metadata": {},
   "source": [
    "##### Define main function"
   ]
  },
  {
   "cell_type": "code",
   "execution_count": 22,
   "metadata": {},
   "outputs": [],
   "source": [
    "def main_func():\n",
    "    initial_population = gen_init_population(number_of_chrom_in_population,len(scrip_names))\n",
    "#         initial_population.head()\n",
    "    elite_population = selection_func(fitness_func,max_allocation,initial_population,stck_returns,weights)\n",
    "    elite_population.reset_index(inplace=True,drop=True)\n",
    "#         elite_population.head()\n",
    "    new_population = evolution_func(elite_population,mutation_probability,scrip_names,number_of_chrom_in_population)\n",
    "#     We run genetic algorithm for number_of_iterations times\n",
    "    for i in range(number_of_iterations):\n",
    "        new_elite_population = selection_func(fitness_func,max_allocation,new_population,stck_returns,weights)\n",
    "        new_population = evolution_func(new_elite_population,mutation_probability,scrip_names,number_of_chrom_in_population)\n",
    "    return new_population"
   ]
  },
  {
   "cell_type": "markdown",
   "metadata": {},
   "source": [
    "##### Call main function"
   ]
  },
  {
   "cell_type": "code",
   "execution_count": 23,
   "metadata": {},
   "outputs": [],
   "source": [
    "range_of_portfolios = main_func() #Final population"
   ]
  },
  {
   "cell_type": "markdown",
   "metadata": {},
   "source": [
    "##### Select the topmost portfolio"
   ]
  },
  {
   "cell_type": "code",
   "execution_count": 24,
   "metadata": {},
   "outputs": [
    {
     "data": {
      "text/plain": [
       "l&t       0.047013\n",
       "sunpha    0.013315\n",
       "tcs       0.358694\n",
       "hdfc      0.102762\n",
       "itc       0.071586\n",
       "m&m       0.406630\n",
       "Name: 1247, dtype: float64"
      ]
     },
     "execution_count": 24,
     "metadata": {},
     "output_type": "execute_result"
    }
   ],
   "source": [
    "top_portfolios = selection_func(fitness_func,max_allocation,range_of_portfolios,stck_returns,weights)\n",
    "final_portfolio = top_portfolios.iloc[0]\n",
    "final_portfolio"
   ]
  },
  {
   "cell_type": "markdown",
   "metadata": {},
   "source": [
    "##### Calculate portfolio returns"
   ]
  },
  {
   "cell_type": "code",
   "execution_count": 25,
   "metadata": {},
   "outputs": [
    {
     "data": {
      "text/plain": [
       "l&t       0.108842\n",
       "sunpha   -0.041454\n",
       "tcs       0.421184\n",
       "hdfc      0.390110\n",
       "itc       0.038104\n",
       "m&m       0.294570\n",
       "dtype: float64"
      ]
     },
     "execution_count": 25,
     "metadata": {},
     "output_type": "execute_result"
    }
   ],
   "source": [
    "weighted_stck_returns = stck_returns.apply(lambda x:(x*weights).sum())\n",
    "weighted_stck_returns"
   ]
  },
  {
   "cell_type": "code",
   "execution_count": 26,
   "metadata": {},
   "outputs": [
    {
     "name": "stdout",
     "output_type": "stream",
     "text": [
      "The portfolio return is: 0.318\n"
     ]
    }
   ],
   "source": [
    "portfolio_return = sum((final_portfolio*max_allocation)*weighted_stck_returns)/max_allocation\n",
    "# In the past three years, BSE Sensex has given a return of 26.12%. Using only one stock from each sector \n",
    "# (all of them are top players by market capitalization, except m&m), we got a portfolio return of 33.7%. \n",
    "# That too excluding any expense ratio that you would have incurred for sensex indexed fund (roughly it is around 0.5%).\n",
    "# If you do some research, you are beating some mutual funds in this category as well (one of the best funds \n",
    "# gave return of 35%)!!\n",
    "print('The portfolio return is: {0:.3f}'.format(portfolio_return))"
   ]
  }
 ],
 "metadata": {
  "kernelspec": {
   "display_name": "Python 3",
   "language": "python",
   "name": "python3"
  },
  "language_info": {
   "codemirror_mode": {
    "name": "ipython",
    "version": 3
   },
   "file_extension": ".py",
   "mimetype": "text/x-python",
   "name": "python",
   "nbconvert_exporter": "python",
   "pygments_lexer": "ipython3",
   "version": "3.6.5"
  }
 },
 "nbformat": 4,
 "nbformat_minor": 2
}
